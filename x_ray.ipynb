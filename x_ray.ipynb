{
 "cells": [
  {
   "cell_type": "markdown",
   "metadata": {},
   "source": [
    "## Detect Pneumonia Using X-Ray Images with CNNs and Transfer Learning\n",
    "In this project we will build two deep learning models and train them on a dataset containing images of chest X-rays. The aim of this project is to train classifiers on the dataset that can accurately predict whether an X-ray indicates any signs of pneumonia or not.\n",
    "\n",
    "The models could then be used for developing tools that could aid hospitals in accurately identifying whether a patient has a particular disease or not."
   ]
  },
  {
   "cell_type": "code",
   "execution_count": 17,
   "metadata": {},
   "outputs": [],
   "source": [
    "import os\n",
    "import time\n",
    "import pickle\n",
    "import tarfile\n",
    "import zipfile\n",
    "import numpy as np\n",
    "import pandas as pd\n",
    "import seaborn as sns\n",
    "import matplotlib.pyplot as plt\n",
    "from sklearn.model_selection import train_test_split\n",
    "\n",
    "import tensorflow as tf\n",
    "import keras\n",
    "from keras import backend as k\n",
    "from keras import regularizers, initializers\n",
    "from keras import layers, models\n",
    "from keras.models import Model\n",
    "from keras.layers import Input\n",
    "from keras import applications\n"
   ]
  },
  {
   "cell_type": "code",
   "execution_count": 18,
   "metadata": {},
   "outputs": [
    {
     "name": "stdout",
     "output_type": "stream",
     "text": [
      "Found 5232 files belonging to 2 classes.\n",
      "Found 624 files belonging to 2 classes.\n",
      "Found 5232 files belonging to 2 classes.\n",
      "Using 1308 files for validation.\n"
     ]
    }
   ],
   "source": [
    "#defining the directories\n",
    "train_dir='chest_xray/train'\n",
    "test_dir='chest_xray/test'\n",
    "#define image size and batch size\n",
    "img_size=(256,256)\n",
    "batch_size=32\n",
    "#create the train_dataset\n",
    "train_set=tf.keras.preprocessing.image_dataset_from_directory(\n",
    "    directory=train_dir,\n",
    "    labels='inferred',\n",
    "    label_mode='binary',\n",
    "    batch_size=batch_size,\n",
    "    image_size=img_size\n",
    "\n",
    ")\n",
    "test_set=tf.keras.preprocessing.image_dataset_from_directory(\n",
    "    directory=test_dir,\n",
    "    labels='inferred',\n",
    "    label_mode='binary',\n",
    "    batch_size=batch_size,\n",
    "    image_size=img_size\n",
    "\n",
    ")\n",
    "val_set=tf.keras.preprocessing.image_dataset_from_directory(\n",
    "    directory=train_dir,\n",
    "    labels='inferred',\n",
    "    label_mode='binary',\n",
    "    batch_size=batch_size,\n",
    "    image_size=img_size,\n",
    "    validation_split=0.25,\n",
    "    subset=\"validation\",\n",
    "    seed=417\n",
    "\n",
    ")\n",
    "\n"
   ]
  },
  {
   "cell_type": "code",
   "execution_count": 25,
   "metadata": {},
   "outputs": [
    {
     "data": {
      "text/plain": [
       "['NORMAL', 'PNEUMONIA']"
      ]
     },
     "execution_count": 25,
     "metadata": {},
     "output_type": "execute_result"
    }
   ],
   "source": [
    "train_set.class_names"
   ]
  },
  {
   "cell_type": "code",
   "execution_count": 31,
   "metadata": {},
   "outputs": [
    {
   